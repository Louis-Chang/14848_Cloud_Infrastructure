{
 "cells": [
  {
   "cell_type": "code",
   "execution_count": 2,
   "id": "0d551d72",
   "metadata": {},
   "outputs": [],
   "source": [
    "import pandas as pd"
   ]
  },
  {
   "cell_type": "code",
   "execution_count": 3,
   "id": "e45153d8",
   "metadata": {},
   "outputs": [
    {
     "data": {
      "text/html": [
       "<div>\n",
       "<style scoped>\n",
       "    .dataframe tbody tr th:only-of-type {\n",
       "        vertical-align: middle;\n",
       "    }\n",
       "\n",
       "    .dataframe tbody tr th {\n",
       "        vertical-align: top;\n",
       "    }\n",
       "\n",
       "    .dataframe thead th {\n",
       "        text-align: right;\n",
       "    }\n",
       "</style>\n",
       "<table border=\"1\" class=\"dataframe\">\n",
       "  <thead>\n",
       "    <tr style=\"text-align: right;\">\n",
       "      <th></th>\n",
       "      <th>Sensor_ID</th>\n",
       "      <th>Model_Used</th>\n",
       "      <th>Notes</th>\n",
       "      <th>Humidity_Percentage</th>\n",
       "      <th>Temperature_in_Fahrenheit</th>\n",
       "      <th>Wind_Speed_in_mph</th>\n",
       "      <th>Wind_Direction</th>\n",
       "    </tr>\n",
       "  </thead>\n",
       "  <tbody>\n",
       "    <tr>\n",
       "      <th>0</th>\n",
       "      <td>AAAAAA</td>\n",
       "      <td>modnist-sensor</td>\n",
       "      <td>newer type of sensor</td>\n",
       "      <td>50%</td>\n",
       "      <td>45 F</td>\n",
       "      <td>4 mph</td>\n",
       "      <td>NW</td>\n",
       "    </tr>\n",
       "    <tr>\n",
       "      <th>1</th>\n",
       "      <td>AAAAAB</td>\n",
       "      <td>mednist-sensor</td>\n",
       "      <td>our mid-age quality sensor</td>\n",
       "      <td>40%</td>\n",
       "      <td>NaN</td>\n",
       "      <td>5 mph</td>\n",
       "      <td>SW</td>\n",
       "    </tr>\n",
       "    <tr>\n",
       "      <th>2</th>\n",
       "      <td>AAAAAC</td>\n",
       "      <td>oldnist-sensor</td>\n",
       "      <td>our oldest sensor</td>\n",
       "      <td>80%</td>\n",
       "      <td>NaN</td>\n",
       "      <td>NaN</td>\n",
       "      <td>NaN</td>\n",
       "    </tr>\n",
       "    <tr>\n",
       "      <th>3</th>\n",
       "      <td>AAAAAD</td>\n",
       "      <td>modnist-sensor</td>\n",
       "      <td>newer type of sensor</td>\n",
       "      <td>90%</td>\n",
       "      <td>95 F</td>\n",
       "      <td>2 mph</td>\n",
       "      <td>NE</td>\n",
       "    </tr>\n",
       "    <tr>\n",
       "      <th>4</th>\n",
       "      <td>AAAAAE</td>\n",
       "      <td>mednist-sensor</td>\n",
       "      <td>our mid-age quality sensor</td>\n",
       "      <td>40%</td>\n",
       "      <td>NaN</td>\n",
       "      <td>7 mph</td>\n",
       "      <td>SW</td>\n",
       "    </tr>\n",
       "  </tbody>\n",
       "</table>\n",
       "</div>"
      ],
      "text/plain": [
       "  Sensor_ID      Model_Used                       Notes Humidity_Percentage  \\\n",
       "0    AAAAAA  modnist-sensor       newer type of sensor                  50%   \n",
       "1    AAAAAB  mednist-sensor  our mid-age quality sensor                 40%   \n",
       "2    AAAAAC  oldnist-sensor           our oldest sensor                 80%   \n",
       "3    AAAAAD  modnist-sensor       newer type of sensor                  90%   \n",
       "4    AAAAAE  mednist-sensor  our mid-age quality sensor                 40%   \n",
       "\n",
       "  Temperature_in_Fahrenheit Wind_Speed_in_mph Wind_Direction  \n",
       "0                      45 F             4 mph             NW  \n",
       "1                       NaN             5 mph             SW  \n",
       "2                       NaN               NaN            NaN  \n",
       "3                      95 F             2 mph             NE  \n",
       "4                       NaN             7 mph             SW  "
      ]
     },
     "execution_count": 3,
     "metadata": {},
     "output_type": "execute_result"
    }
   ],
   "source": [
    "df = pd.read_csv('sensors.csv')\n",
    "df.head()"
   ]
  }
 ],
 "metadata": {
  "kernelspec": {
   "display_name": "Python 3 (ipykernel)",
   "language": "python",
   "name": "python3"
  },
  "language_info": {
   "codemirror_mode": {
    "name": "ipython",
    "version": 3
   },
   "file_extension": ".py",
   "mimetype": "text/x-python",
   "name": "python",
   "nbconvert_exporter": "python",
   "pygments_lexer": "ipython3",
   "version": "3.11.5"
  }
 },
 "nbformat": 4,
 "nbformat_minor": 5
}
